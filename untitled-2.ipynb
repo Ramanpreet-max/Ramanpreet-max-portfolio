{
 "cells": [
  {
   "cell_type": "code",
   "execution_count": 1,
   "id": "499aa1ac",
   "metadata": {},
   "outputs": [
    {
     "name": "stdout",
     "output_type": "stream",
     "text": [
      "Simple Calculator\n"
     ]
    }
   ],
   "source": [
    "# Simple Calculator Program\n",
    "\n",
    "def calculator():\n",
    "    print(\"Simple Calculator\")    # Simple Calculator Program (Jupyter-friendly)\n",
    "\n",
    "    \n",
    "    def calculator(num1, num2, operation):\n",
    "        if operation == 'add':\n",
    "            return f\"{num1} + {num2} = {num1 + num2}\"\n",
    "        elif operation == 'subtract':\n",
    "            return f\"{num1} - {num2} = {num1 - num2}\"\n",
    "        elif operation == 'multiply':\n",
    "            return f\"{num1} * {num2} = {num1 * num2}\"\n",
    "        elif operation == 'divide':\n",
    "            if num2 != 0:\n",
    "                return f\"{num1} / {num2} = {num1 / num2}\"\n",
    "            else:\n",
    "                return \"Error: Division by zero is not allowed.\"\n",
    "        else:\n",
    "            return \"Invalid operation.\"\n",
    "    \n",
    "\n",
    "# Run the calculator\n",
    "calculator()\n"
   ]
  },
  {
   "cell_type": "code",
   "execution_count": null,
   "id": "aa487e30",
   "metadata": {},
   "outputs": [],
   "source": [
    "# Simple Calculator Program (Jupyter-friendly)\n",
    "\n",
    "def calculator(num1, num2, operation):\n",
    "    if operation == 'add':\n",
    "        return f\"{num1} + {num2} = {num1 + num2}\"\n",
    "    elif operation == 'subtract':\n",
    "        return f\"{num1} - {num2} = {num1 - num2}\"\n",
    "    elif operation == 'multiply':\n",
    "        return f\"{num1} * {num2} = {num1 * num2}\"\n",
    "    elif operation == 'divide':\n",
    "        if num2 != 0:\n",
    "            return f\"{num1} / {num2} = {num1 / num2}\"\n",
    "        else:\n",
    "            return \"Error: Division by zero is not allowed.\"\n",
    "    else:\n",
    "        return \"Invalid operation.\"\n",
    "\n",
    "# Example usage:\n",
    "calculator(10, 5, 'add')      # Change numbers and operation as needed# Simple Calculator Program (Jupyter-friendly)\n",
    "\n",
    "def calculator(num1, num2, operation):\n",
    "    if operation == 'add':\n",
    "        return f\"{num1} + {num2} = {num1 + num2}\"\n",
    "    elif operation == 'subtract':\n",
    "        return f\"{num1} - {num2} = {num1 - num2}\"\n",
    "    elif operation == 'multiply':\n",
    "        return f\"{num1} * {num2} = {num1 * num2}\"\n",
    "    elif operation == 'divide':\n",
    "        if num2 != 0:\n",
    "            return f\"{num1} / {num2} = {num1 / num2}\"\n",
    "        else:\n",
    "            return \"Error: Division by zero is not allowed.\"\n",
    "    else:\n",
    "        return \"Invalid operation.\"\n",
    "\n",
    "# Example usage:\n",
    "calculator(10, 5, 'add')      # Change numbers and operation as needed# Simple Calculator Program (Jupyter-friendly)\n",
    "\n",
    "def calculator(num1, num2, operation):\n",
    "    if operation == 'add':\n",
    "        return f\"{num1} + {num2} = {num1 + num2}\"\n",
    "    elif operation == 'subtract':\n",
    "        return f\"{num1} - {num2} = {num1 - num2}\"\n",
    "    elif operation == 'multiply':\n",
    "        return f\"{num1} * {num2} = {num1 * num2}\"\n",
    "    elif operation == 'divide':\n",
    "        if num2 != 0:\n",
    "            return f\"{num1} / {num2} = {num1 / num2}\"\n",
    "        else:\n",
    "            return \"Error: Division by zero is not allowed.\"\n",
    "    else:\n",
    "        return \"Invalid operation.\"\n",
    "\n",
    "# Example usage:\n",
    "calculator(10, 5, 'add')      # Change numbers and operation as needed "
   ]
  },
  {
   "cell_type": "code",
   "execution_count": null,
   "id": "fe1d0773",
   "metadata": {},
   "outputs": [],
   "source": []
  },
  {
   "cell_type": "code",
   "execution_count": null,
   "id": "cd34ff2a",
   "metadata": {},
   "outputs": [],
   "source": []
  }
 ],
 "metadata": {
  "kernelspec": {
   "display_name": "Python 3",
   "language": "python",
   "name": "python3"
  },
  "language_info": {
   "codemirror_mode": {
    "name": "ipython",
    "version": 3
   },
   "file_extension": ".py",
   "mimetype": "text/x-python",
   "name": "python",
   "nbconvert_exporter": "python",
   "pygments_lexer": "ipython3",
   "version": "3.13.5"
  }
 },
 "nbformat": 4,
 "nbformat_minor": 5
}
