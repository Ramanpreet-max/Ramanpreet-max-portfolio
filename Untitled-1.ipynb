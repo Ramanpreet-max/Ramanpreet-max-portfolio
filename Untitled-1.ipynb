{
 "cells": [
  {
   "cell_type": "code",
   "execution_count": 1,
   "id": "dfd5b0cd",
   "metadata": {},
   "outputs": [],
   "source": [
    "# Book class to store book details\n",
    "class Book:\n",
    "    def __init__(self, book_id, title, author):\n",
    "        self.book_id = book_id\n",
    "        self.title = title\n",
    "        self.author = author\n",
    "        self.is_issued = False\n",
    "\n",
    "    def __str__(self):\n",
    "        status = \"Issued\" if self.is_issued else \"Available\"\n",
    "        return f\"ID: {self.book_id}, Title: {self.title}, Author: {self.author}, Status: {status}\""
   ]
  },
  {
   "cell_type": "code",
   "execution_count": 7,
   "id": "45dec14b",
   "metadata": {},
   "outputs": [],
   "source": [
    "\n",
    "# Library class to manage books\n",
    "class Library:\n",
    "    def __init__(self):\n",
    "        self.books = []\n",
    "\n",
    "    def add_book(self, book):\n",
    "        self.books.append(book)\n",
    "        print(f\"Book '{book.title}' added.\")\n",
    "\n",
    "    def list_books(self):\n",
    "        if not self.books:\n",
    "            print(\"No books in the library.\")\n",
    "        for book in self.books:\n",
    "            print(book)\n",
    "\n",
    "    def remove_book(self, book_id):\n",
    "        for book in self.books:\n",
    "            if book.book_id == book_id:\n",
    "                self.books.remove(book)\n",
    "                print(f\"Book '{book.title}' removed.\")\n",
    "                return\n",
    "        print(f\"No book found with ID {book_id}.\")\n",
    "\n",
    "    def issue_book(self, book_id):\n",
    "        for book in self.books:\n",
    "            if book.book_id == book_id:\n",
    "                if not book.is_issued:\n",
    "                    book.is_issued = True\n",
    "                    print(f\"Book '{book.title}' has been issued.\")\n",
    "                else:\n",
    "                    print(f\"Book '{book.title}' is already issued.\")\n",
    "                return\n",
    "        print(f\"No book found with ID {book_id}.\")\n",
    "\n",
    "    def return_book(self, book_id):\n",
    "        for book in self.books:\n",
    "            if book.book_id == book_id:\n",
    "                if book.is_issued:\n",
    "                    book.is_issued = False\n",
    "                    print(f\"Book '{book.title}' has been returned.\")\n",
    "                else:\n",
    "                    print(f\"Book '{book.title}' was not issued.\")\n",
    "                return\n",
    "        print(f\"No book found with ID {book_id}.\")\n",
    "        \n",
    "\n"
   ]
  },
  {
   "cell_type": "code",
   "execution_count": 5,
   "id": "17f14cd9",
   "metadata": {},
   "outputs": [
    {
     "name": "stdout",
     "output_type": "stream",
     "text": [
      "Book 'The Great Gatsby' added.\n",
      "Book 'To Kill a Mockingbird' added.\n",
      "ID: 1, Title: The Great Gatsby, Author: F. Scott Fitzgerald, Status: Available\n",
      "ID: 2, Title: To Kill a Mockingbird, Author: Harper Lee, Status: Available\n"
     ]
    }
   ],
   "source": [
    "# Create a library instance\n",
    "library = Library()\n",
    "\n",
    "# Add some books\n",
    "book1 = Book(1, \"The Great Gatsby\", \"F. Scott Fitzgerald\")\n",
    "book2 = Book(2, \"To Kill a Mockingbird\", \"Harper Lee\")\n",
    "\n",
    "library.add_book(book1)\n",
    "library.add_book(book2)\n",
    "\n",
    "# List all books in the library\n",
    "library.list_books()"
   ]
  },
  {
   "cell_type": "code",
   "execution_count": 6,
   "id": "06c9c418",
   "metadata": {},
   "outputs": [
    {
     "name": "stdout",
     "output_type": "stream",
     "text": [
      "Book 'The Great Gatsby' removed.\n",
      "ID: 2, Title: To Kill a Mockingbird, Author: Harper Lee, Status: Available\n"
     ]
    }
   ],
   "source": [
    "# Remove a book by ID\n",
    "library.remove_book(1)\n",
    "\n",
    "# List books after removal\n",
    "library.list_books()"
   ]
  },
  {
   "cell_type": "code",
   "execution_count": 11,
   "id": "762edd88",
   "metadata": {},
   "outputs": [
    {
     "data": {
      "text/plain": [
       "'library.list_books()'"
      ]
     },
     "execution_count": 11,
     "metadata": {},
     "output_type": "execute_result"
    }
   ],
   "source": [
    "\n",
    "\"library.issue_book(2)   \"\n",
    "\"library.list_books()   \"\n",
    "\"library.return_book(2)   \"\n",
    "\"library.list_books()\"\n",
    "\n"
   ]
  },
  {
   "cell_type": "code",
   "execution_count": 12,
   "id": "2a6241fa",
   "metadata": {},
   "outputs": [
    {
     "name": "stdout",
     "output_type": "stream",
     "text": [
      "Book '1984' added.\n",
      "Book 'Pride and Prejudice' added.\n",
      "ID: 2, Title: To Kill a Mockingbird, Author: Harper Lee, Status: Available\n",
      "ID: 3, Title: 1984, Author: George Orwell, Status: Available\n",
      "ID: 4, Title: Pride and Prejudice, Author: Jane Austen, Status: Available\n"
     ]
    }
   ],
   "source": [
    "# Add more books\n",
    "book3 = Book(3, \"1984\", \"George Orwell\")\n",
    "book4 = Book(4, \"Pride and Prejudice\", \"Jane Austen\")\n",
    "\n",
    "library.add_book(book3)\n",
    "library.add_book(book4)\n",
    "\n",
    "# List all books to see the updated library\n",
    "library.list_books()"
   ]
  },
  {
   "cell_type": "code",
   "execution_count": null,
   "id": "0d9e857b",
   "metadata": {},
   "outputs": [],
   "source": []
  }
 ],
 "metadata": {
  "kernelspec": {
   "display_name": "Python 3",
   "language": "python",
   "name": "python3"
  },
  "language_info": {
   "codemirror_mode": {
    "name": "ipython",
    "version": 3
   },
   "file_extension": ".py",
   "mimetype": "text/x-python",
   "name": "python",
   "nbconvert_exporter": "python",
   "pygments_lexer": "ipython3",
   "version": "3.13.5"
  }
 },
 "nbformat": 4,
 "nbformat_minor": 5
}
